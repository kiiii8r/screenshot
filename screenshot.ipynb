{
 "cells": [
  {
   "cell_type": "code",
   "execution_count": 8,
   "metadata": {},
   "outputs": [],
   "source": [
    "import io\n",
    "from time import sleep\n",
    "from typing import List, Tuple, Optional\n",
    "from PIL import Image\n",
    "\n",
    "from selenium import webdriver\n",
    "from selenium.webdriver.chrome.options import Options\n",
    "\n",
    "def get_full_screenshot_image(driver, reverse=False, driverss_contains_scrollbar=None):\n",
    "    # type: (selenium.webdriver.remote.webdriver.WebDriver, bool, Optional[bool]) -> Image.Image\n",
    "    \"\"\"\n",
    "    スクリーンショットを撮影し、ピロウズインスタンスを取得する。\n",
    "    :param reverse: 画像合成時に下方向から貼り付けます。デフォルトはFalse。\n",
    "    :param driverss_contains_scrollbar: WebDriverで撮影したスクリーンショットに水平スクロールバーが含まれている場合にTrueに設定します。デフォルトは自動で決定されます。\n",
    "    \"\"\"\n",
    "    if driverss_contains_scrollbar is None:\n",
    "        driverss_contains_scrollbar = isinstance(driver, webdriver.Chrome)\n",
    "    # Scroll to the bottom of the page once\n",
    "    driver.execute_script(\"window.scrollTo(0, document.body.scrollHeight);\")\n",
    "    scroll_height, document_client_width, document_client_height, inner_width, inner_height = driver.execute_script(\"return [document.body.scrollHeight, document.documentElement.clientWidth, document.documentElement.clientHeight, window.innerWidth, window.innerHeight]\")\n",
    "    streams_to_be_closed = []   # type: List[io.BytesIO]\n",
    "\n",
    "    # 固定ヘッダー削除\n",
    "    topnav = driver.find_element_by_class_name(\"top-header\")\n",
    "    driver.execute_script(\"arguments[0].setAttribute('style', 'position: absolute; top: 0px;')\", topnav) \n",
    "\n",
    "    images = [] # type: List[Tuple[Image.Image, int]]\n",
    "    try:\n",
    "        # open\n",
    "        for y_coord in range(0, scroll_height, document_client_height):\n",
    "            driver.execute_script(\"window.scrollTo(0, arguments[0]);\", y_coord)\n",
    "            stream = io.BytesIO(driver.get_screenshot_as_png())\n",
    "            streams_to_be_closed.append(stream)\n",
    "            img = Image.open(stream)\n",
    "            images.append((img, min(y_coord, scroll_height - inner_height)))  # Image, y_coord\n",
    "        # load\n",
    "        scale = float(img.size[0]) / (inner_width if driverss_contains_scrollbar else document_client_width)\n",
    "        img_dst = Image.new(mode='RGBA', size=(int(document_client_width * scale), int(scroll_height * scale)))\n",
    "        for img, y_coord in (reversed(images) if reverse else images):\n",
    "            img_dst.paste(img, (0, int(y_coord * scale)))\n",
    "        return img_dst\n",
    "    finally:\n",
    "        # close\n",
    "        for stream in streams_to_be_closed:\n",
    "            stream.close()\n",
    "        for img, y_coord in images:\n",
    "            img.close()"
   ]
  },
  {
   "cell_type": "code",
   "execution_count": 11,
   "metadata": {},
   "outputs": [
    {
     "name": "stderr",
     "output_type": "stream",
     "text": [
      "/var/folders/wz/rkl671953ng3z35hqm92qpww0000gn/T/ipykernel_24118/582557213.py:3: DeprecationWarning: executable_path has been deprecated, please pass in a Service object\n",
      "  driver = webdriver.Chrome(executable_path='/Users/kii/lang/python/chromedriver',options=options)\n"
     ]
    }
   ],
   "source": [
    "options = Options()\n",
    "# options.add_argument('--headless')\n",
    "driver = webdriver.Chrome(executable_path='/Users/kii/lang/python/chromedriver',options=options)"
   ]
  },
  {
   "cell_type": "code",
   "execution_count": 12,
   "metadata": {},
   "outputs": [
    {
     "name": "stderr",
     "output_type": "stream",
     "text": [
      "/var/folders/wz/rkl671953ng3z35hqm92qpww0000gn/T/ipykernel_24118/3169428229.py:24: DeprecationWarning: find_element_by_* commands are deprecated. Please use find_element() instead\n",
      "  topnav = driver.find_element_by_class_name(\"top-header\")\n"
     ]
    }
   ],
   "source": [
    "urls = [\n",
    "        \"https://kaitorisatei.info/\",\n",
    "        \"https://kaitorisatei.info/flow_tentou\"\n",
    "        ]\n",
    "\n",
    "for url in urls:\n",
    "    driver.get(url)\n",
    "    sleep (3)\n",
    "\n",
    "    img = get_full_screenshot_image(driver) \n",
    "       \n",
    "    img_name = url.lstrip(\"https://\" \"http://\" ).replace(\"/\",\"_\").replace(\"?\", \"_\") + \".png\"\n",
    "    img.save(img_name)    "
   ]
  },
  {
   "cell_type": "code",
   "execution_count": null,
   "metadata": {},
   "outputs": [],
   "source": []
  }
 ],
 "metadata": {
  "interpreter": {
   "hash": "bab484d906b2f18946df9f1d3f9afe7b18e4da337495264419bb66ea8a340375"
  },
  "kernelspec": {
   "display_name": "Python 3.9.7 ('base')",
   "language": "python",
   "name": "python3"
  },
  "language_info": {
   "codemirror_mode": {
    "name": "ipython",
    "version": 3
   },
   "file_extension": ".py",
   "mimetype": "text/x-python",
   "name": "python",
   "nbconvert_exporter": "python",
   "pygments_lexer": "ipython3",
   "version": "3.9.7"
  },
  "orig_nbformat": 4
 },
 "nbformat": 4,
 "nbformat_minor": 2
}
